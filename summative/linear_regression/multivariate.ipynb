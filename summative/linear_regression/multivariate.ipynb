{
 "cells": [
  {
   "cell_type": "markdown",
   "metadata": {},
   "source": [
    "# Predicting Used Car Prices with Linear Regression\n",
    "## Introduction\n",
    "\n",
    "\n",
    "---\n",
    "### Dataset Description\n",
    "The dataset contains information about used cars, including features such as:\n",
    "\n",
    "**Year:** The manufacturing year of the car.\n",
    "\n",
    "**Kilometers_Driven:** Total distance driven (in kilometers).\n",
    "\n",
    "**Fuel_Type:** Type of fuel (e.g., Petrol, Diesel, CNG, LPG).\n",
    "\n",
    "**Transmission:** Manual or Automatic.\n",
    "\n",
    "**Owner_Type:** Ownership history (e.g., First, Second).\n",
    "\n",
    "**Mileage:** Fuel efficiency (e.g., kmpl or km/kg).\n",
    "\n",
    "**Engine:** Engine displacement (in CC).\n",
    "\n",
    "**Power:** Engine power (in bhp).\n",
    "\n",
    "**Seats:** Number of seats.\n",
    "\n",
    "**Price:** Target variable (price in lakhs).\n",
    "\n",
    "**New_Price:** Price of the brand new car of the same characteristics."
   ]
  },
  {
   "cell_type": "markdown",
   "metadata": {},
   "source": [
    "## Step 1: Import Libraries\n",
    "Let's start by importing the necessary Python libraries for data manipulation, modeling, and visualization."
   ]
  },
  {
   "cell_type": "code",
   "execution_count": 4,
   "metadata": {},
   "outputs": [],
   "source": [
    "import pandas as pd\n",
    "import numpy as np\n",
    "import matplotlib.pyplot as plt\n",
    "import seaborn as sns\n",
    "from sklearn.model_selection import train_test_split\n",
    "from sklearn.preprocessing import StandardScaler\n",
    "from sklearn.linear_model import SGDRegressor\n",
    "from sklearn.tree import DecisionTreeRegressor\n",
    "from sklearn.ensemble import RandomForestRegressor\n",
    "from sklearn.metrics import mean_squared_error\n",
    "from joblib import dump"
   ]
  }
 ],
 "metadata": {
  "kernelspec": {
   "display_name": ".venv",
   "language": "python",
   "name": "python3"
  },
  "language_info": {
   "codemirror_mode": {
    "name": "ipython",
    "version": 3
   },
   "file_extension": ".py",
   "mimetype": "text/x-python",
   "name": "python",
   "nbconvert_exporter": "python",
   "pygments_lexer": "ipython3",
   "version": "3.9.6"
  }
 },
 "nbformat": 4,
 "nbformat_minor": 2
}
