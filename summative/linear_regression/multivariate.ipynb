{
 "cells": [
  {
   "cell_type": "markdown",
   "metadata": {},
   "source": [
    "# Predicting Used Car Prices with Linear Regression\n",
    "## Introduction\n",
    "\n",
    "\n",
    "---\n",
    "### Dataset Description\n",
    "The dataset contains information about used cars, including features such as:\n",
    "\n",
    "**Year:** The manufacturing year of the car.\n",
    "**Kilometers_Driven:** Total distance driven (in kilometers).\n",
    "**Fuel_Type:** Type of fuel (e.g., Petrol, Diesel, CNG, LPG).\n",
    "**Transmission:** Manual or Automatic.\n",
    "**Owner_Type:** Ownership history (e.g., First, Second).\n",
    "**Mileage:** Fuel efficiency (e.g., kmpl or km/kg).\n",
    "**Engine:** Engine displacement (in CC).\n",
    "**Power:** Engine power (in bhp).\n",
    "**Seats:** Number of seats.\n",
    "**Price:** Target variable (price in lakhs).\n",
    "**New_Price:** Price of the brand new car of the same characteristics."
   ]
  }
 ],
 "metadata": {
  "language_info": {
   "name": "python"
  }
 },
 "nbformat": 4,
 "nbformat_minor": 2
}
